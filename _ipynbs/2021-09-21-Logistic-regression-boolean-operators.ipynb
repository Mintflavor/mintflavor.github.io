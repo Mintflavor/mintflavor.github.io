{
 "cells": [
  {
   "cell_type": "markdown",
   "metadata": {},
   "source": [
    "# Logistic regression : boolean operators\n",
    "2017010055 박현일"
   ]
  },
  {
   "cell_type": "code",
   "execution_count": 2,
   "metadata": {},
   "outputs": [],
   "source": [
    "import numpy as np\n",
    "import seaborn as sns\n",
    "import matplotlib.pylab as plt\n",
    "plt.rcParams[\"figure.figsize\"] = (5,5)"
   ]
  },
  {
   "cell_type": "code",
   "execution_count": 28,
   "metadata": {},
   "outputs": [],
   "source": [
    "class logistic_regression_model():\n",
    "    def __init__(self, Y):\n",
    "        self.w = np.array([random.random(), random.random()])\n",
    "        self.b = np.array(random.random())\n",
    "        self.X = np.array([(0,0), (0,1), (1,0), (1,1)])\n",
    "        self.Y = Y\n",
    "        self.costArray = []\n",
    "        \n",
    "    def sigmoid(self, z):\n",
    "        return 1/(1 + np.exp(-z))\n",
    "    \n",
    "    def predict(self, x):\n",
    "        #z = self.w[0] * x[0] + self.w[1] * x[1] + self.b\n",
    "        z = np.inner(self.w, x) + self.b\n",
    "        a = self.sigmoid(z)\n",
    "        return a\n",
    "    \n",
    "    def train(self, lr = 0.1):\n",
    "        #dw0 = 0.0\n",
    "        #dw1 = 0.0\n",
    "        dw = np.array([0.0, 0.0])\n",
    "        db = np.array(0.0)\n",
    "        m = len(self.X)\n",
    "        cost = 0.0\n",
    "\n",
    "        for x, y in zip(self.X, self.Y):\n",
    "            a = self.predict(x)\n",
    "            if y == 1:\n",
    "                cost -= np.log(a)\n",
    "            else:\n",
    "                cost -= np.log(1-a)\n",
    "\n",
    "            #dw0 += (a-y)*x[0]\n",
    "            #dw1 += (a-y)*x[1]\n",
    "            dw += (a-y)*x\n",
    "            db += (a-y)\n",
    "\n",
    "        cost /= m\n",
    "        #model.w[0] -= lr * dw0/m\n",
    "        #model.w[1] -= lr * dw1/m\n",
    "        self.w -= lr * dw/m\n",
    "        self.b -= lr * db/m\n",
    "        self.costArray.append(cost)\n",
    "\n",
    "        return cost"
   ]
  },
  {
   "cell_type": "code",
   "execution_count": 29,
   "metadata": {},
   "outputs": [],
   "source": [
    "AND_model = logistic_regression_model([0, 0, 0, 1])\n",
    "OR_model = logistic_regression_model([0, 1, 1, 1])\n",
    "XOR_model = logistic_regression_model([0, 1, 1, 0])\n",
    "\n",
    "for epoch in range(10000):\n",
    "    AND_model.train(3)\n",
    "    OR_model.train(3)\n",
    "    XOR_model.train(3)"
   ]
  },
  {
   "cell_type": "code",
   "execution_count": 30,
   "metadata": {},
   "outputs": [
    {
     "data": {
      "text/plain": [
       "(0.0, 1.0)"
      ]
     },
     "execution_count": 30,
     "metadata": {},
     "output_type": "execute_result"
    },
    {
     "data": {
      "image/png": "[encoded data removed]",
      "text/plain": [
       "<Figure size 1080x360 with 3 Axes>"
      ]
     },
     "metadata": {
      "needs_background": "light"
     },
     "output_type": "display_data"
    }
   ],
   "source": [
    "fig, line = plt.subplots(1, 3, figsize=(15,5))\n",
    "fig.suptitle(\"Models cost plot at lr=3\")\n",
    "\n",
    "sns.lineplot(ax=line[0], data=AND_model.costArray)\n",
    "line[0].set_title(\"AND model cost plot\")\n",
    "line[0].set_ylim(bottom=0, top=1)\n",
    "\n",
    "sns.lineplot(ax=line[1], data=OR_model.costArray)\n",
    "line[1].set_title(\"OR model cost plot\")\n",
    "line[1].set_ylim(bottom=0, top=1)\n",
    "\n",
    "sns.lineplot(ax=line[2], data=XOR_model.costArray)\n",
    "line[2].set_title(\"XOR model cost plot\")\n",
    "line[2].set_ylim(bottom=0, top=1)"
   ]
  },
  {
   "cell_type": "code",
   "execution_count": 31,
   "metadata": {},
   "outputs": [
    {
     "name": "stdout",
     "output_type": "stream",
     "text": [
      "   X\t      AND_model\t               OR_model\t      XOR_model\n",
      "(0, 0) : 4.1912614107056677e-10,\t 0.0006681037429268422,\t 0.5\n",
      "(0, 1) : 0.0006684597447590221,\t 0.999732770454956,\t 0.5\n",
      "(1, 0) : 0.0006684597447590067,\t 0.999732770439083,\t 0.5\n",
      "(1, 1) : 0.9990641488136947,\t 0.9999999999522322,\t 0.5\n"
     ]
    }
   ],
   "source": [
    "print(\"   X\\t      AND_model\\t               OR_model\\t      XOR_model\")\n",
    "for i in [(0,0), (0,1), (1,0), (1,1)]:\n",
    "    print(f\"{i} : {AND_model.predict(i)},\\t {OR_model.predict(i)},\\t {XOR_model.predict(i)}\")"
   ]
  },
  {
   "cell_type": "code",
   "execution_count": null,
   "metadata": {},
   "outputs": [],
   "source": []
  }
 ],
 "metadata": {
  "kernelspec": {
   "display_name": "Python 3",
   "language": "python",
   "name": "python3"
  },
  "language_info": {
   "codemirror_mode": {
    "name": "ipython",
    "version": 3
   },
   "file_extension": ".py",
   "mimetype": "text/x-python",
   "name": "python",
   "nbconvert_exporter": "python",
   "pygments_lexer": "ipython3",
   "version": "3.9.1"
  }
 },
 "nbformat": 4,
 "nbformat_minor": 4
}
